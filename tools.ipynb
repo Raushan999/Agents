{
 "cells": [
  {
   "cell_type": "markdown",
   "id": "817b5ea5",
   "metadata": {},
   "source": [
    "## Tool"
   ]
  },
  {
   "cell_type": "markdown",
   "id": "6677ea83",
   "metadata": {},
   "source": [
    "- A tool is just a python function (or API) that is packaged in  a way LLM can understand and call when needed\n",
    "\n",
    "* LLsMs are great only at 2 things:- \n",
    "* - Reasoning  (think)\n",
    "* - Language generation (Speak)\n",
    "\n",
    "* But they can't do things like:- \n",
    "* - Access live data (weather,news)\n",
    "* - Do reliable task\n",
    "* - call apis\n",
    "* - Run code for su. "
   ]
  },
  {
   "cell_type": "markdown",
   "id": "e105d415",
   "metadata": {},
   "source": [
    "**** In simple LLMs are just HUman body without Hands and Legs."
   ]
  },
  {
   "cell_type": "markdown",
   "id": "79f2aa2b",
   "metadata": {},
   "source": [
    "Tools:- \n",
    "Built and Custom tools:\n",
    "\n",
    "### How Tools fit into the AGent Ecosystem:- \n",
    "\n",
    "* An Ai Agent is an LLM powered system that can automatically think, decide, and take action using external tools or API to achieve goal.\n",
    "\n",
    "- * Agent:: Reasoning & Decision Making [LLM] ---> Action [TOOL]\n"
   ]
  },
  {
   "cell_type": "markdown",
   "id": "847dc43c",
   "metadata": {},
   "source": [
    "Built-in Tools\n",
    "* WikipediaQueryRun\n",
    "* PythonREPLTool\n",
    "* SQLDatabaseQueryTool"
   ]
  },
  {
   "cell_type": "code",
   "execution_count": 8,
   "id": "d7e25def",
   "metadata": {},
   "outputs": [],
   "source": [
    "# !pip install langchain langchain-core langchain-community pydantic duckduckgo-search langchain_experimental\n",
    "# !pip install --upgrade requests urllib3 duckduckgo_search langchain langchain_community certifi\n"
   ]
  },
  {
   "cell_type": "code",
   "execution_count": 4,
   "id": "53dc788c",
   "metadata": {},
   "outputs": [],
   "source": [
    "# !python -m pip install --trusted-host pypi.python.org --trusted-host files.pythonhosted.org --trusted-host pypi.org --upgrade pip"
   ]
  },
  {
   "cell_type": "markdown",
   "id": "5a184b9f",
   "metadata": {},
   "source": [
    "Search Tool"
   ]
  },
  {
   "cell_type": "code",
   "execution_count": 1,
   "id": "da928d1d",
   "metadata": {},
   "outputs": [],
   "source": [
    "# from langchain_community.tools import DuckDuckGoSearchRun\n",
    "# import time\n",
    "# search_tool = DuckDuckGoSearchRun()\n",
    "# time.sleep(4)\n",
    "# results = search_tool.invoke('top news in india today')\n",
    "\n",
    "# print(results)"
   ]
  },
  {
   "cell_type": "markdown",
   "id": "5f0a1afc",
   "metadata": {},
   "source": [
    "Custom Tools\n",
    "\n",
    "- We need to call our own APIs\n",
    "- Encapsulate our own business logic\n",
    "- want llm to interact with our database, product or app"
   ]
  },
  {
   "cell_type": "markdown",
   "id": "c7991edb",
   "metadata": {},
   "source": []
  },
  {
   "cell_type": "code",
   "execution_count": 2,
   "id": "24d2be20",
   "metadata": {},
   "outputs": [],
   "source": [
    "from langchain_core.tools import tool"
   ]
  },
  {
   "cell_type": "code",
   "execution_count": null,
   "id": "29d94112",
   "metadata": {},
   "outputs": [],
   "source": [
    "# step 1 Create a function:_ \n",
    "def find_power(a, b):\n",
    "    \"\"\"Find the value of a raised to power b\"\"\"\n",
    "    "
   ]
  },
  {
   "cell_type": "code",
   "execution_count": null,
   "id": "b47b4cf8",
   "metadata": {},
   "outputs": [],
   "source": []
  }
 ],
 "metadata": {
  "kernelspec": {
   "display_name": "Python 3",
   "language": "python",
   "name": "python3"
  },
  "language_info": {
   "codemirror_mode": {
    "name": "ipython",
    "version": 3
   },
   "file_extension": ".py",
   "mimetype": "text/x-python",
   "name": "python",
   "nbconvert_exporter": "python",
   "pygments_lexer": "ipython3",
   "version": "3.11.7"
  }
 },
 "nbformat": 4,
 "nbformat_minor": 5
}
